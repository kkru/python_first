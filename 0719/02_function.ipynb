{
 "cells": [
  {
   "cell_type": "markdown",
   "metadata": {},
   "source": [
    "# 함수\n",
    "\n",
    "코드의 재사용을 위해 함수를 사용한다.  \n",
    "함수는 이름이 붙여진 코드 조각이라고 생각하자.  \n",
    "\n",
    "함수는 두가지 작업을 수행한다.\n",
    "- 정의하기(생성하기) : 0개 또는 1개 이상의 매개변수를 가진다.  \n",
    "  - 함수의 몸체(코드블록)을 작성, 함수가 실행해야될 코드들의 모음\n",
    "  - return 문이 있다 : 결과를 반환하는 함수\n",
    "  - return 문이 없다 : 함수의 결과가 None\n",
    "- 호출하기(사용하기) : 0개 또는 1개 이상의 결과를 얻는다.\n",
    "\n",
    "### 1.1 함수 정의하기 : def\n",
    "\n",
    "함수를 정의하기 위해서는 def 라는 키워드와 지어줄 함수의 이름, !!괄호!! 를 입력한다.  \n",
    "괄호 안에는 선택사항(옵션)으로 매개변수(파라미터)를 입력할수 있다.\n",
    "마지막에 (괄호가 끝나고) : 콜론을 반드시 붙여준다.  \n",
    "함수 이름은 변수명 규칙과 동일한 규칙으로 지어줘야 한다.\n"
   ]
  },
  {
   "cell_type": "code",
   "execution_count": 1,
   "metadata": {},
   "outputs": [],
   "source": [
    "def do_nothing():\n",
    "    pass # 책 에서 빈공간을 의도적으로 남기는 것처럼 코드에서도 아무일도 하지 않고 한줄만 차지하도록\n",
    "    # 함수의 범위는 들여쓰기로 구분한다.\n",
    "# 들여쓰기 가 안되있다면 함수범위의 밖으로 벗어난 것이다."
   ]
  },
  {
   "cell_type": "markdown",
   "metadata": {},
   "source": [
    "### 1.2 함수 호출하기 : ()\n",
    "\n",
    "함수 이름과 괄호를 입력해서 함수를 호출할(사용할) 수 있다."
   ]
  },
  {
   "cell_type": "code",
   "execution_count": 2,
   "metadata": {},
   "outputs": [],
   "source": [
    "do_nothing() # 아무일도 하지 않는 함수..."
   ]
  },
  {
   "cell_type": "markdown",
   "metadata": {},
   "source": [
    "매개변수 를 가진 함수 선언하기\n",
    "\n",
    "매개변수 : 함수 바깥에서 선언된 변수를 함수 내에서 사용하기 위해 사용하는 변수  \n",
    "함수 내에서는 외부에 있는 변수를 식별 할수 없기때문에 매개변수를 통해 전달받아서 사용한다."
   ]
  },
  {
   "cell_type": "code",
   "execution_count": 3,
   "metadata": {},
   "outputs": [
    {
     "name": "stdout",
     "output_type": "stream",
     "text": [
      "빵빵\n"
     ]
    }
   ],
   "source": [
    "def make_a_sound(sound): # make_a_sound 라는 함수 안에서는 sound라는 변수를 사용할수있다.\n",
    "    print(sound) # 매개변수를 사용\n",
    "\n",
    "string = \"빵빵\"\n",
    "\n",
    "make_a_sound(string) # string 을 함수 내부에서는 sound라는 이름으로 사용할수가 있게 된다.\n"
   ]
  },
  {
   "cell_type": "markdown",
   "metadata": {},
   "source": [
    "결과(Output)를 반환하는 함수\n",
    "\n",
    "이 함수를 사용하면 변수에 함수의 결과도 저장할수 있다.\n",
    "또는 종류에 따라 식에서도 사용할수가 있게 됩니다.\n",
    "\n",
    "value = function()"
   ]
  },
  {
   "cell_type": "code",
   "execution_count": 8,
   "metadata": {},
   "outputs": [
    {
     "name": "stdout",
     "output_type": "stream",
     "text": [
      "False\n",
      "싫어요\n",
      "True\n",
      "None\n",
      "True\n",
      "True\n"
     ]
    }
   ],
   "source": [
    "def agree():\n",
    "    return False\n",
    "\n",
    "result = agree() # agree 라는 함수가 결과로 반환하는 값을 result라는 변수에 할당\n",
    "\n",
    "print(result)\n",
    "\n",
    "if agree(): # agree 라는 함수가 True를 반환하기 때문에 조건식에 사용\n",
    "    print(\"좋아요!\")\n",
    "else:\n",
    "    print(\"싫어요\")\n",
    "\n",
    "def agree_print():\n",
    "    print(True) # 이 함수는 return 문이 없다 ==> 결과를 반환하지 않는다.\n",
    "\n",
    "result = agree_print()\n",
    "print(result) # return 문이 존재하지 않는 함수는 None 을 반환한다 (값을 반환하지 않는다.)\n",
    "\n",
    "# 어떤 함수가 값을 반환하는지 반환하지 않는지 알아보는 방법\n",
    "print(agree_print() is None) # 해당 함수가 반환하는 값이 None 인가? 물어보는 코드"
   ]
  },
  {
   "cell_type": "markdown",
   "metadata": {},
   "source": [
    "두개 이상의 값을 반환받고 싶을때, 어떻게 해야하나요??\n",
    "함수는 기본적으로 두개의 값을 반환하는 것은 불가능, 대신 여러개의 값을 컨테이너(리스트, 튜블, 딕셔너리) 에 담아서 리턴하여서 사용"
   ]
  },
  {
   "cell_type": "code",
   "execution_count": 12,
   "metadata": {},
   "outputs": [
    {
     "name": "stdout",
     "output_type": "stream",
     "text": [
      "(9, -1)\n",
      "<class 'tuple'>\n",
      "{'add': 9, 'minus': -1}\n",
      "9\n",
      "-1\n",
      "<class 'dict'>\n"
     ]
    }
   ],
   "source": [
    "def add_minus(x, y):\n",
    "    return x+y, x-y\n",
    "\n",
    "result = add_minus(4,5)\n",
    "print(result)\n",
    "print(type(result))\n",
    "\n",
    "def dic_add_minus(x, y):\n",
    "    return { \"add\" : x+y , \"minus\" : x-y }\n",
    "\n",
    "result = dic_add_minus(4,5)\n",
    "print(result)\n",
    "print(result.get(\"add\"))\n",
    "print(result[\"minus\"])\n",
    "print(type(result))"
   ]
  },
  {
   "cell_type": "markdown",
   "metadata": {},
   "source": [
    "인수와 매개변수  \n",
    "Argument, Parameter 의 차이점?  \n",
    "\n",
    "__ 함수로 전달한 값을 인수 라고 부른다. 함수 외부에서 사용할때 인수라고 한다.__  \n",
    "__ 함수 내부에서 사용하는 값을 파라미터 라고 부른다.__  \n",
    "\n",
    "매개변수, 파라미터 : 함수를 정의할때 , 함수 내부에서 사용하는 변수  \n",
    "인수, 아규먼트 : 함수를 호출할때, 함수 외부에서 사용되는 변수  "
   ]
  },
  {
   "cell_type": "code",
   "execution_count": 14,
   "metadata": {},
   "outputs": [
    {
     "data": {
      "text/plain": [
       "'안녕하세요'"
      ]
     },
     "execution_count": 14,
     "metadata": {},
     "output_type": "execute_result"
    }
   ],
   "source": [
    "def echo(message): # 파라미터, 매개변수 : message\n",
    "    return message # 파라미터, 매개변수\n",
    "\n",
    "echo(\"안녕하세요\") # 아규먼트, 인수 : \"안녕하세요\""
   ]
  },
  {
   "cell_type": "markdown",
   "metadata": {},
   "source": [
    "### 인수의 종류\n",
    "### - 위치인수\n",
    "### - 키워드인수\n",
    "\n",
    "위치인수 ??\n",
    "\n",
    "기본적으로 우리가 함수를 호출할때 인수는 위치에 따라 함수내에 전달된다.  \n",
    "우리가 아무것도 하지 않고 지금까지 했던 것처럼 함수를 정의했다면 위치 인수를 사용했다.  \n",
    "위치인수는 단점이 있는데, 함수내에서 해당 인수의 위치가 의미하는 뜻을 알고 있어야 한다.  "
   ]
  },
  {
   "cell_type": "code",
   "execution_count": 16,
   "metadata": {},
   "outputs": [
    {
     "name": "stdout",
     "output_type": "stream",
     "text": [
      "{'음료': '콜라', '메인': '치킨', '디저트': '도넛'}\n",
      "{'음료': '치킨', '메인': '콜라', '디저트': '도넛'}\n"
     ]
    }
   ],
   "source": [
    "def menu(drink, entree, dessert):\n",
    "    return {\"음료\" : drink, \"메인\":entree , \"디저트\":dessert}\n",
    "\n",
    "print(menu(\"콜라\" , \"치킨\" , \"도넛\"))\n",
    "\n",
    "print(menu(\"치킨\" , \"콜라\" , \"도넛\"))"
   ]
  },
  {
   "cell_type": "markdown",
   "metadata": {},
   "source": [
    "### 키워드 인수\n",
    "\n",
    "위치 인수의 혼란을 피하기 위해서 매개변수에 상응하는 이름을 인수에 지정하는 방법\n",
    "!!! 순서가 달라도 된다.!!!"
   ]
  },
  {
   "cell_type": "code",
   "execution_count": 19,
   "metadata": {},
   "outputs": [
    {
     "name": "stdout",
     "output_type": "stream",
     "text": [
      "{'음료': '와인', '메인': '스테이크', '디저트': '푸딩'}\n",
      "{'음료': '사이다', '메인': '피자', '디저트': '치즈볼'}\n"
     ]
    }
   ],
   "source": [
    "print(menu(entree=\"스테이크\",drink=\"와인\",dessert=\"푸딩\"))\n",
    "\n",
    "# 키워드 인수는 반드시 위치 인수 뒤에 와야 한다.\n",
    "print(menu(\"사이다\" , dessert=\"치즈볼\" , entree=\"피자\"))"
   ]
  },
  {
   "cell_type": "code",
   "execution_count": 20,
   "metadata": {},
   "outputs": [
    {
     "ename": "SyntaxError",
     "evalue": "positional argument follows keyword argument (3925021951.py, line 1)",
     "output_type": "error",
     "traceback": [
      "\u001b[1;36m  Input \u001b[1;32mIn [20]\u001b[1;36m\u001b[0m\n\u001b[1;33m    print(menu(dessert=\"치즈볼\" , \"콜라\" , \"피자\"))\u001b[0m\n\u001b[1;37m                                          ^\u001b[0m\n\u001b[1;31mSyntaxError\u001b[0m\u001b[1;31m:\u001b[0m positional argument follows keyword argument\n"
     ]
    }
   ],
   "source": [
    "print(menu(dessert=\"치즈볼\" , \"콜라\" , \"피자\"))"
   ]
  },
  {
   "cell_type": "markdown",
   "metadata": {},
   "source": [
    "기본 인수값 지정하기\n",
    "매개변수에 기본값을 지정할수 있다. 만약 인수로 들어온 값이 없다면 기본값을 사용하게 된다."
   ]
  },
  {
   "cell_type": "code",
   "execution_count": 24,
   "metadata": {},
   "outputs": [
    {
     "name": "stdout",
     "output_type": "stream",
     "text": [
      "5\n",
      "1\n"
     ]
    }
   ],
   "source": [
    "def add(x, y=-1): # y 파라미터의 기본값은 0 , 인수로 y값이 전달되지 않았을때, 0이 된다.\n",
    "    return x+y\n",
    "\n",
    "print(add(2,3))\n",
    "print(add(2))"
   ]
  },
  {
   "cell_type": "markdown",
   "metadata": {},
   "source": [
    "정해지지 않은 여러개의 (몇개가 올지 모르는) 인수를 처리하는 방법  \n",
    "\n",
    "애스터리스크 또는 언패킹연산자 라고 불리는 * 사용  \n",
    "\n",
    "가변인자(*args)\n",
    "- 여러개의 위치 인수를 하나의 필수 파라미터로 받아서 사용한다.\n",
    "- 몇개의 위치 인수를 받을지 모르는 함수를 작성할때 유용하다.\n",
    "\n",
    "패킹 ? 언패킹?\n",
    "- 패킹 : 여러개의 데이터를 묶어서 하나의 변수에 할당한다.\n",
    "- 언패킹 : 시퀀스 속의 요소들을 여러개의 변수에 나눠서 할당한다.\n",
    "\n",
    "__패킹 / 언패킹 시에 변수의 개수와 할당하고자 하는 요소의 개수가 동일해야한다.!!!!__"
   ]
  },
  {
   "cell_type": "code",
   "execution_count": 26,
   "metadata": {},
   "outputs": [
    {
     "name": "stdout",
     "output_type": "stream",
     "text": [
      "(1, 2, 3, 4, 5)\n",
      "1 2 3 4 5\n"
     ]
    }
   ],
   "source": [
    "numbers = (1,2,3,4,5)\n",
    "print(numbers)\n",
    "\n",
    "# 언패킹 : 시퀀스 속의 요소들을 여러개의 변수에 나눠서 할당\n",
    "a,b,c,d,e = numbers\n",
    "print(a,b,c,d,e)"
   ]
  },
  {
   "cell_type": "code",
   "execution_count": 27,
   "metadata": {},
   "outputs": [
    {
     "ename": "ValueError",
     "evalue": "too many values to unpack (expected 3)",
     "output_type": "error",
     "traceback": [
      "\u001b[1;31m---------------------------------------------------------------------------\u001b[0m",
      "\u001b[1;31mValueError\u001b[0m                                Traceback (most recent call last)",
      "\u001b[1;32mc:\\Users\\alstj\\OneDrive\\바탕 화면\\파이썬\\lecture\\0719\\02_function.ipynb 셀 22\u001b[0m in \u001b[0;36m<cell line: 1>\u001b[1;34m()\u001b[0m\n\u001b[1;32m----> <a href='vscode-notebook-cell:/c%3A/Users/alstj/OneDrive/%EB%B0%94%ED%83%95%20%ED%99%94%EB%A9%B4/%ED%8C%8C%EC%9D%B4%EC%8D%AC/lecture/0719/02_function.ipynb#ch0000027?line=0'>1</a>\u001b[0m a , b, c \u001b[39m=\u001b[39m numbers\n",
      "\u001b[1;31mValueError\u001b[0m: too many values to unpack (expected 3)"
     ]
    }
   ],
   "source": [
    "a , b, c = numbers"
   ]
  },
  {
   "cell_type": "code",
   "execution_count": 28,
   "metadata": {},
   "outputs": [
    {
     "ename": "ValueError",
     "evalue": "not enough values to unpack (expected 7, got 5)",
     "output_type": "error",
     "traceback": [
      "\u001b[1;31m---------------------------------------------------------------------------\u001b[0m",
      "\u001b[1;31mValueError\u001b[0m                                Traceback (most recent call last)",
      "\u001b[1;32mc:\\Users\\alstj\\OneDrive\\바탕 화면\\파이썬\\lecture\\0719\\02_function.ipynb 셀 23\u001b[0m in \u001b[0;36m<cell line: 1>\u001b[1;34m()\u001b[0m\n\u001b[1;32m----> <a href='vscode-notebook-cell:/c%3A/Users/alstj/OneDrive/%EB%B0%94%ED%83%95%20%ED%99%94%EB%A9%B4/%ED%8C%8C%EC%9D%B4%EC%8D%AC/lecture/0719/02_function.ipynb#ch0000028?line=0'>1</a>\u001b[0m a,b,c,d,e,f,g \u001b[39m=\u001b[39m numbers\n",
      "\u001b[1;31mValueError\u001b[0m: not enough values to unpack (expected 7, got 5)"
     ]
    }
   ],
   "source": [
    "a,b,c,d,e,f,g = numbers # 준비한 변수는 7개인데 나눠줄 값은 5개밖에 없어서 에러가 발생한다."
   ]
  },
  {
   "cell_type": "code",
   "execution_count": 29,
   "metadata": {},
   "outputs": [
    {
     "name": "stdout",
     "output_type": "stream",
     "text": [
      "(1, 2, 3, 4, 5, '6')\n",
      "<class 'tuple'>\n"
     ]
    }
   ],
   "source": [
    "def func(*args):\n",
    "    print(args)\n",
    "    print(type(args))\n",
    "\n",
    "func(1,2,3,4,5,'6')"
   ]
  },
  {
   "cell_type": "code",
   "execution_count": 31,
   "metadata": {},
   "outputs": [
    {
     "name": "stdout",
     "output_type": "stream",
     "text": [
      "6\n",
      "21\n"
     ]
    }
   ],
   "source": [
    "def sum_all(*numbers): # numbers 에는 몇개가 들어올지 모르는 상황\n",
    "    result = 0 # 여기에 총합을 저장\n",
    "    for num in numbers:\n",
    "        result += num\n",
    "    return result\n",
    "\n",
    "print(sum_all(1,2,3))\n",
    "print(sum_all(1,2,3,4,5,6))"
   ]
  },
  {
   "cell_type": "code",
   "execution_count": 36,
   "metadata": {},
   "outputs": [
    {
     "name": "stdout",
     "output_type": "stream",
     "text": [
      "아버지 : 파더\n",
      "어머니 : 마더\n",
      "그 외 :\n",
      "남동생\n",
      "누나\n",
      "아버지 : 파더\n",
      "어머니 : 마더\n",
      "그 외 :\n"
     ]
    }
   ],
   "source": [
    "def family(father, mother=\"마더\", *others): # father 랑 mother는 필수 인자 \n",
    "    print(\"아버지 : \" + father)\n",
    "    print(\"어머니 : \" + mother)\n",
    "    print(\"그 외 :\")\n",
    "    for name in others:\n",
    "        print(name)\n",
    "    \n",
    "family(\"파더\" , \"마더\" , \"남동생\" , \"누나\")\n",
    "\n",
    "family(\"파더\")"
   ]
  },
  {
   "cell_type": "markdown",
   "metadata": {},
   "source": [
    "가변 키워드 인자(**kwargs)\n",
    "\n",
    "몇개의 !!키워드 인자!! 를 받을지 모르는 함수를 정의할때 사용한다.  \n",
    "**kwargs 는 딕셔너리로 묶어서 처리된다. **를 붙여서 표현한다.  \n"
   ]
  },
  {
   "cell_type": "code",
   "execution_count": 38,
   "metadata": {},
   "outputs": [
    {
     "name": "stdout",
     "output_type": "stream",
     "text": [
      "father : 아부지\n",
      "mother : 어무니\n",
      "son : 아들\n",
      "mother : 어무니\n",
      "father : 아부지\n",
      "son : 아들\n"
     ]
    }
   ],
   "source": [
    "def family(**kwargs): # kwargs는 딕셔너리처럼 사용이 가능하다.\n",
    "    for key, value in kwargs.items():\n",
    "        print(key, \":\" ,value)\n",
    "\n",
    "family(father=\"아부지\", mother=\"어무니\" , son=\"아들\")\n",
    "family(mother=\"어무니\" ,father=\"아부지\", son=\"아들\")"
   ]
  },
  {
   "cell_type": "markdown",
   "metadata": {},
   "source": [
    "파이썬의 범위 (Scope 스코프)\n",
    "LEGB??\n",
    "- L : Local scope : 지역 범위(함수...조건문... 코드블록)\n",
    "- E : Enclosed scope : 지역 범위의 한단계 위 범위 (global scope가 아님!!!)\n",
    "- G : Global scope : 최상단(파이썬 파일)에 위치한 범위\n",
    "- B : Built-in scope : 모든것을 담고 있는 범위(정의하지 않고도 사용할 수 있는 것들) ex) print()"
   ]
  },
  {
   "cell_type": "code",
   "execution_count": 39,
   "metadata": {},
   "outputs": [
    {
     "name": "stdout",
     "output_type": "stream",
     "text": [
      "10 1 300\n",
      "10 1 3\n",
      "0 1\n"
     ]
    }
   ],
   "source": [
    "a = 0 # global scope\n",
    "b = 1 # global scope\n",
    "\n",
    "def enclosed():\n",
    "    a = 10 # 밖에 있는 global 의 a와는 다른 a (global 의 a를 바꿀수 없다.)\n",
    "    c = 3\n",
    "    def local(c):\n",
    "        print(a,b,c)\n",
    "    local(300)\n",
    "    print(a,b,c)\n",
    "\n",
    "enclosed()\n",
    "print(a,b)\n"
   ]
  },
  {
   "cell_type": "markdown",
   "metadata": {},
   "source": [
    "함수안에서 함수 범위 밖의 변수를 수정하고 싶다.  \n",
    "\n",
    "우리가 앞으로 사용할 변수는 global 범위의 변수다 라고 표시를 해줘야 한다.  \n",
    "==> global 키워드\n",
    "global 문 : 해당 식별자 이름이 global 범위에 있음을 나타낸다. (새로운 변수를 생성하지 않고, global에 있는 변수를 가져다가 사용한다.)\n",
    "\n",
    "같은 코드 블록 내에서 global 문 앞에서 같은 이름의 변수 정의 불가능\n",
    "a = 10\n",
    "global a ==>xxxxxxx"
   ]
  },
  {
   "cell_type": "code",
   "execution_count": 46,
   "metadata": {},
   "outputs": [
    {
     "ename": "SyntaxError",
     "evalue": "name 'a' is assigned to before global declaration (792824801.py, line 4)",
     "output_type": "error",
     "traceback": [
      "\u001b[1;36m  Input \u001b[1;32mIn [46]\u001b[1;36m\u001b[0m\n\u001b[1;33m    global a\u001b[0m\n\u001b[1;37m    ^\u001b[0m\n\u001b[1;31mSyntaxError\u001b[0m\u001b[1;31m:\u001b[0m name 'a' is assigned to before global declaration\n"
     ]
    }
   ],
   "source": [
    "a = 10\n",
    "def function():\n",
    "    a = 3\n",
    "    global a\n",
    "    print(a)\n",
    "\n",
    "function()\n",
    "print(a)"
   ]
  },
  {
   "cell_type": "markdown",
   "metadata": {},
   "source": [
    "nonlocal\n",
    "\n",
    "global을 제외하고 가장 가까운(둘러싸고있는 ,코드블록으로 구분된, 들여쓰기가 같게 되어있는) scope의 변수를 연결하도록 할수 있다.\n",
    "\n",
    "global과 마찬가지로 nonlocal로 선언된 변수는 앞에서 같은 이름의 변수선언 불가능\n",
    "\n",
    "global은 우리가 global 범위에서 해당 이름을 가진 변수를 생성한적이 없다면 새로 만들어 주지만,\n",
    "nonlocal은 만들어 주지 않고 해당 이름을 가진 변수를 찾지 못한다고 에러를 발생시킨다.\n"
   ]
  },
  {
   "cell_type": "code",
   "execution_count": 47,
   "metadata": {},
   "outputs": [
    {
     "name": "stdout",
     "output_type": "stream",
     "text": [
      "3\n"
     ]
    }
   ],
   "source": [
    "# global scope\n",
    "\n",
    "def function():\n",
    "    global out\n",
    "    out = 3\n",
    "\n",
    "function()\n",
    "print(out)"
   ]
  },
  {
   "cell_type": "code",
   "execution_count": 51,
   "metadata": {},
   "outputs": [
    {
     "name": "stdout",
     "output_type": "stream",
     "text": [
      "10\n",
      "2\n"
     ]
    }
   ],
   "source": [
    "\n",
    "def func1():\n",
    "    y = 10\n",
    "    print(y)\n",
    "    def func2():\n",
    "        nonlocal y\n",
    "        y = 2\n",
    "    func2()\n",
    "    print(y)\n",
    "\n",
    "func1()"
   ]
  },
  {
   "cell_type": "markdown",
   "metadata": {},
   "source": [
    "함수에서 선언된 변수는 기본적으로 local scope (global, nonlocal 을 사용하지 않으면)\n",
    "\n",
    "해당 scope에서 변수를 찾을수 없는 경우 (LOCAL - ENCLOSED - GLOBAL - BUILTIN)순으로 변수를 검색한다. (LEGB)\n",
    "읽기는 할수 있지만 (해당 범위에서 찾을수 없는 변수를 사용할때) 수정은 불가능하다.\n",
    "수정을하면 해당 범위에서 변수를 새로 선언하는게 되어버린다.\n",
    "global, nonlocal 키워드를 통해 수정할수는 있다.\n",
    "\n",
    "global, nonlocal 사용은 최소한으로 하자.\n",
    "- 사용하면 코드가 복잡해지고 변수이름의 추적이 어려워진다.\n",
    "- 가급적 사용하지 않고 argument, return 값을 이용해서 함수 바깥의 변수와 연동할수 있도록 한다.\n"
   ]
  }
 ],
 "metadata": {
  "kernelspec": {
   "display_name": "Python 3.10.0 64-bit",
   "language": "python",
   "name": "python3"
  },
  "language_info": {
   "codemirror_mode": {
    "name": "ipython",
    "version": 3
   },
   "file_extension": ".py",
   "mimetype": "text/x-python",
   "name": "python",
   "nbconvert_exporter": "python",
   "pygments_lexer": "ipython3",
   "version": "3.10.0"
  },
  "orig_nbformat": 4,
  "vscode": {
   "interpreter": {
    "hash": "369f2c481f4da34e4445cda3fffd2e751bd1c4d706f27375911949ba6bb62e1c"
   }
  }
 },
 "nbformat": 4,
 "nbformat_minor": 2
}
