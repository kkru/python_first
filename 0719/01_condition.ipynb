{
 "cells": [
  {
   "cell_type": "markdown",
   "metadata": {},
   "source": [
    "# 제어문\n",
    "\n",
    "특정 상황에따라서 코드를 선택적으로 실행하거나\n",
    "계속해서 실행(반복)하는 제어문\n",
    "\n",
    "## 조건문\n",
    "\n",
    "참/거짓을 판단할수 있는 조건식과 함께 사용\n",
    "참/거짓을 판단할 수 있는 조건식 ==> boolean\n",
    "True / False\n",
    "결과가 True 아니면 False 이면 조건식으로 사용할수 있다.\n",
    "\n",
    "조건이 참이면 : 코드블록(여러줄로 작성된 코드 뭉치)을 실행\n",
    "\n",
    "조건이 거짓 : 코드블록을 실행하지 않고 건너뛴다."
   ]
  },
  {
   "cell_type": "markdown",
   "metadata": {},
   "source": [
    "if (조건 == True):\n",
    "    실행할 코드블록의 범위를 들여쓰기를 통해 구분\n",
    "    이렇게 앞에 공백4칸이 되어있는 부분은 조건이 참일때 실행하는 코드\n",
    "else:\n",
    "    조건이 거짓일때 실행하는 코드\n",
    "    print(\",,,,\")\n",
    "\n",
    "print(\"...\") 이부분은 조건이 참이든 거짓이든 상관없이 실행되는 코드\n",
    "\n",
    "특정 상황을 조건식으로 나타낼수 있어야한다..\n",
    "\n",
    "a가 5보다 크다.\n",
    "a > 5 \n",
    "만약 a가 6이면 ==> 위의 식의 결과는 True\n",
    "만약 a가 4면 ==> 위의 식의 결과는 False\n",
    "\n",
    "a에 들어있는 값에 따라 실행하고 싶은 코드가 다르다라면..\n",
    "\n",
    "a = 6\n",
    "\n",
    "if a > 5:\n",
    "    print(\"a는 5보다 큰 수입니다.\")\n",
    "    print(\"여기는 들여쓰기가 되어있으니 조건식이 참일때 실행하는 코드입니다.\")\n",
    "#print(\"여기는 파이썬 구문 오류(들여쓰기가 안돼서 오류를 발생시키는 코드\")\n",
    "else:\n",
    "    print(\"a는 5보다 작거나 같은 수 입니다.\")\n",
    "    print(\"여기도 들여쓰기가 되어있으니 else 의 범위에 해당됩니다.\")\n",
    "\n",
    "print(\"여기는 들여쓰기가 안되있으니까 조건문과 상관없이 실행되는 코드입니다.\")\n",
    "\n",
    "== != < >\n",
    "True 라는 값을 확실히 보여주고싶다 표현하고 싶다\n",
    "if a > 5 == True :\n",
    "\n",
    "## 복수 조건문\n",
    "\n",
    "if - elif - else\n",
    "\n",
    "if 조건1: \n",
    "    조건1 이 True일때 실행할코드..\n",
    "elif 조건2:\n",
    "    조건1이 False 면서 조건2가 True일 경우 실행할코드...\n",
    "elif 조건3:\n",
    "    조건1, 조건2가 모두 False 면서 조건3d이 True 실행할코드..\n",
    "else:\n",
    "    위에있는 조건중에 하나도 해당하지 않을때 (모두 False일때 실행되는 코드)\n",
    "\n",
    "## 중첩 조건문\n",
    "\n",
    "조건문 안에 또다른 조건문이 들어있는 경우\n",
    "if 조건1:\n",
    "    if 조건2:\n",
    "        조건1이 True이고 조건2도 True일때 실행할코드\n",
    "    else:\n",
    "        조건1은 True인데 조건2가 False일때 실행할코드 \n",
    "    조건1이 True이면 실행될 코드 (조건2랑은 상관없이 실행되는 코드)\n",
    "else:\n",
    "    if 조건3:\n",
    "        조건1이 False 이고 조건3이 True일때 실행할코드\n",
    "    else:\n",
    "        조건1이 False 이고 조건3도 False일때 실행할코드\n",
    "\n",
    "조건 표현식 == 삼항 연산자 \n",
    "조건문을 한줄로 표현하기 위해서 많이 사용\n",
    "\n",
    "값이 True일때 실행할 코드 if 조건식 else 값이 False 일때 실행할 코드"
   ]
  },
  {
   "cell_type": "code",
   "execution_count": 4,
   "metadata": {},
   "outputs": [
    {
     "ename": "SyntaxError",
     "evalue": "invalid syntax (1126403674.py, line 5)",
     "output_type": "error",
     "traceback": [
      "\u001b[1;36m  Input \u001b[1;32mIn [4]\u001b[1;36m\u001b[0m\n\u001b[1;33m    print(\"value는 2의 배수입니다.\") if value % 2 == 0 else\u001b[0m\n\u001b[1;37m                                                     ^\u001b[0m\n\u001b[1;31mSyntaxError\u001b[0m\u001b[1;31m:\u001b[0m invalid syntax\n"
     ]
    }
   ],
   "source": [
    "value = 9\n",
    "\n",
    "print(\"value는 2의 배수입니다.\") if value % 2 == 0 else print(\"value는 2의 배수가 아니다.\")\n",
    "\n",
    "print(\"value는 2의 배수입니다.\") if value % 2 == 0 else \n",
    "print(\"value는 3의 배수입니다.\") if value % 3 == 0 else \n",
    "print(\"value는 2의 배수도 아니고 3의 배수도 아니다.\")\n"
   ]
  },
  {
   "cell_type": "markdown",
   "metadata": {},
   "source": [
    "\n",
    "## 반복문\n",
    "\n",
    "특정 조건을 만족할 때까지 같은 동작을 계속 반복하고 싶을때 사용\n",
    "\n",
    "조건이 참이면 반복문의 코드블록을 계속 실행\n",
    "조건이 거짓이 되면 반복을 종료하고 다음 코드를 실행한다.\n",
    "\n",
    "while문, for문\n",
    "\n",
    "while문 : 종료조건에 해당하는 코드를 통해 반복문을 종료 시키는(반드시 종료 시켜야함) 반복문\n",
    "언제 반복이 종료될지 우리가 한번에 예측하기 어렵다.\n",
    "\n",
    "for문 : 반복가능한 객체(순회가능) 을 모두 순회하면 종료시키는 반복문\n",
    "길이를 알고 있기때문에 반복이 언제까지 될지 예측하기 쉽다\n",
    "\n",
    "반복문을 제어하는 키워드\n",
    "break : 반복을 중간에 강제로 종료시키는 코드 (조건과 상관없이 반복을 종료)\n",
    "continue : 현재 실행중인 코드 블록을 건너뛰고 다음 반복을 실행하는 코드"
   ]
  },
  {
   "cell_type": "markdown",
   "metadata": {},
   "source": [
    "while 문\n",
    "조건식이 True일 경우 반복적으로 코드를 실행\n",
    "조건이 True일경우 \"들여쓰기\" 가 되어있는 코드블록을 실행한다.\n",
    "코드블록을 모두 실행하고, 다시 조건식을 검사해서 True일 경우 반복을 계속하고,\n",
    "False일경우 반복을 종료하고 다음 코드를 실행한다.\n",
    "!!!!! 무한루프(무한반복)을 하지 않도록 종료조건을 반드시 유효하게 설정해야한다. !!!!\n",
    "\n",
    "value = True\n",
    "\n",
    "while value:\n",
    "    value = False\n",
    "    여기는 반복문안에 포함되는 코드 블록\n",
    "\n",
    "들여쓰기가 안되있으면 반복문과 상관없이 무조건 실행되는 코드 (반복하지 않는 코드)\n",
    "\n",
    "while True:\n",
    "    break # 반복문을 꼭 종료 시켜줘야한다.\n",
    "\n",
    "반복문을 통해 1부터 5까지 출력하기"
   ]
  },
  {
   "cell_type": "code",
   "execution_count": 8,
   "metadata": {},
   "outputs": [
    {
     "name": "stdout",
     "output_type": "stream",
     "text": [
      "1\n",
      "2\n",
      "3\n",
      "4\n",
      "5\n",
      "종료\n"
     ]
    }
   ],
   "source": [
    "number = 1\n",
    "while number <= 5:\n",
    "    print(number)\n",
    "    # 조건이 변하지 않기 때문에\n",
    "    # 조건을 변화시켜야한다. ==> 조건식 안에 있는 변수를 통해 조건식이 언젠가는 False가 되도록\n",
    "    # 코드를 설계해야 한다.\n",
    "    number+=1 # number 가 점점 증가하여 number가 5보다 크게되면 조건식이 False가 되므로\n",
    "print(\"종료\")"
   ]
  },
  {
   "cell_type": "markdown",
   "metadata": {},
   "source": [
    "for 문\n",
    "\n",
    "for문은 시퀀스(string, list, tuple, range)를 포함한 순회가능(iterable)한 객체의 요소를 순회\n",
    "처음부터 끝까지 모두 순회한다.\n",
    "별도의 종료조건이 필요가 없다. (종료조건 ==> 해당 객체의 마지막 요소를 순회하고 나면 종료한다.)\n",
    "\n",
    "변수명 : for문 안에있는 코드 블록에서 순회가능한 객체 안에 있는 요소(원소)를 부르는 이름\n",
    "\n",
    "for 변수명 in 순회가능한객체(리스트 등):\n",
    "    반복실행할 코드"
   ]
  },
  {
   "cell_type": "code",
   "execution_count": 11,
   "metadata": {},
   "outputs": [
    {
     "name": "stdout",
     "output_type": "stream",
     "text": [
      "name 홍길동\n",
      "age 30\n"
     ]
    }
   ],
   "source": [
    "dic1 = { \"name\" : \"홍길동\" , \"age\" : 30}\n",
    "for item in dic1: # 딕셔너리에서는 item이 딕셔너리의 키가 된다.\n",
    "    print(item, dic1[item])"
   ]
  },
  {
   "cell_type": "code",
   "execution_count": 9,
   "metadata": {},
   "outputs": [
    {
     "name": "stdout",
     "output_type": "stream",
     "text": [
      "apple\n",
      "banana\n",
      "watermelon\n"
     ]
    }
   ],
   "source": [
    "for fruit in ['apple' , 'banana', 'watermelon']:\n",
    "    print(fruit) # fruit는 리스트 안의 요소를 부를수 있는 변수 이름 역할을 한다.\n"
   ]
  },
  {
   "cell_type": "code",
   "execution_count": 13,
   "metadata": {},
   "outputs": [
    {
     "name": "stdout",
     "output_type": "stream",
     "text": [
      "dict_keys(['name', 'age'])\n",
      "dict_values(['홍길동', 30])\n",
      "dict_items([('name', '홍길동'), ('age', 30)])\n",
      "name 홍길동\n",
      "age 30\n"
     ]
    }
   ],
   "source": [
    "print(dic1.keys())\n",
    "print(dic1.values())\n",
    "print(dic1.items())\n",
    "\n",
    "for key , value in dic1.items():\n",
    "    print(key, value)"
   ]
  },
  {
   "cell_type": "code",
   "execution_count": 16,
   "metadata": {},
   "outputs": [
    {
     "name": "stdout",
     "output_type": "stream",
     "text": [
      "1\n",
      "2\n",
      "3\n",
      "4\n",
      "6\n",
      "7\n",
      "8\n",
      "9\n"
     ]
    }
   ],
   "source": [
    "for number in range(1,10): # 1부터 10-1 까지 순회\n",
    "    if(number==5):\n",
    "        continue\n",
    "    print(number)"
   ]
  }
 ],
 "metadata": {
  "kernelspec": {
   "display_name": "Python 3.10.0 64-bit",
   "language": "python",
   "name": "python3"
  },
  "language_info": {
   "codemirror_mode": {
    "name": "ipython",
    "version": 3
   },
   "file_extension": ".py",
   "mimetype": "text/x-python",
   "name": "python",
   "nbconvert_exporter": "python",
   "pygments_lexer": "ipython3",
   "version": "3.10.0"
  },
  "orig_nbformat": 4,
  "vscode": {
   "interpreter": {
    "hash": "369f2c481f4da34e4445cda3fffd2e751bd1c4d706f27375911949ba6bb62e1c"
   }
  }
 },
 "nbformat": 4,
 "nbformat_minor": 2
}
