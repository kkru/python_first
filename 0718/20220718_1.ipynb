{
 "cells": [
  {
   "cell_type": "markdown",
   "id": "5b3294fa",
   "metadata": {},
   "source": [
    "파이썬에서 코드작성을할때 주의해야할점\n",
    "\n",
    "들여쓰기\n",
    "\n",
    "문장을 구분할때, 중괄호{,(,},) 대신 들여쓰기를 사용한다.\n",
    "들여쓰기를 할때는 공백4칸(SPACE키 4번), 혹은 탭키(TAB키 1번)을 입력\n",
    "주의~!! 한 코드 안에서는 반드시 한 종류의 들여쓰기를 사용한다.\n",
    "==> 혼용금지\n",
    "TAB으로 한번 들여쓰기를 했다면 계속 탭으로 들여쓰기를 해야한다.\n",
    "원칙적으로는 공백(빈칸,SPACE)를 사용하는것을 권장(PEP8)"
   ]
  },
  {
   "cell_type": "markdown",
   "id": "b1a84141",
   "metadata": {},
   "source": [
    "주석(COMMENT)\n",
    "\n",
    "코드에 대한 설명을 기록할때 쓴다.\n",
    "- 코드를 보다 이해하기 쉽게 하여 분석 및 수정이 용이해진다.\n",
    "- 주석은 코드에 영향을 주지 않으며 오로지 개발자를 위한 것이다.\n",
    "(나중에 다른 사람들과 협업을 한다거나 오래된 코드를 수정할 일이 생길때,\n",
    "주석을 보고 코드를 이해하는데 도움을 주기 위해 작성)\n",
    "\n",
    "초기부터 들여야 할 가장 중요한 습관이다.\n",
    "- 개발자에게 주석을 다는 습관 중요!\n",
    "(주석은 프로그램의 성능에 영향을 끼치지 않으니, 많으면 많을수록 좋다. 대신 코드를\n",
    "보기 어려울정도로 많이 작성하는것은 지양 => 가독성을 저해하지 않도록한다.)\n",
    "\n",
    "주석을 작성하는 방법(Python 기준)\n",
    "\n",
    "1. 한줄 주석\n",
    "- 주석으로 처리하고 싶은 코드(텍스트) 앞에 '#'를 입력한다.\n",
    "- 한줄을 온전히 사용할수도 있고, 코드 뒷부분에 작성할 수도 있다.\n",
    "\n",
    "2. 여러줄 주석\n",
    "- 한줄씩 #을 사용하거나, \"\"\" 또는 ''' 를 묶어서 표현한다.\n"
   ]
  },
  {
   "cell_type": "code",
   "execution_count": 7,
   "id": "1f566d91",
   "metadata": {},
   "outputs": [
    {
     "name": "stdout",
     "output_type": "stream",
     "text": [
      "SSAFY SHIN\n",
      "SSAFY SHIN\n"
     ]
    }
   ],
   "source": [
    "# 이름을 출력하는 코드입니다.\n",
    "print(\"SSAFY SHIN\")\n",
    "\n",
    "print(\"SSAFY SHIN\") # 이름을 출력하는 코드입니다."
   ]
  },
  {
   "cell_type": "code",
   "execution_count": null,
   "id": "ea935445",
   "metadata": {},
   "outputs": [],
   "source": [
    "# 이렇게 \n",
    "# 여러줄 주석을\n",
    "# 사용할 수 있습니다.\n",
    "\n",
    "\"\"\"\n",
    "이렇게\n",
    "여러줄 주석을 \n",
    "사용할 수 있습니다.\n",
    "\"\"\"\n",
    "\n",
    "'''\n",
    "이렇게\n",
    "여러줄 주석을\n",
    "사용할 수 있습니다.\n",
    "'''"
   ]
  },
  {
   "cell_type": "markdown",
   "id": "cc9a5822",
   "metadata": {},
   "source": [
    "변수 (Variable)\n",
    "\n",
    "dust = 60\n",
    "dust 라는 상자에 60이라는 값(데이터, 정보)를 저장한다.\n",
    "\n",
    "변수란?\n",
    "데이터를 저장하기 위해서 사용한다.\n",
    "변수를 사용하면 복잡한 값들을 쉽게 사용할수 있고, 나중에 다시 재사용하기 편하다.\n",
    "동일한 변수에 다른 데이터를 언제든 저장할 수 있기 때문에 변수라고 불린다.(계속 변할수 있다.)\n",
    "\n",
    "\n",
    "변수를 사용하는 방법\n",
    "변수는 할당연산자(=)를 통해 값을 할당한다.\n",
    "지금까지 알고 있었던 '=' 기호는 \"같다\" 라는 뜻을 가지는 기호였는데,\n",
    "프로그래밍 에서는 '=' 기호를 할당연산자 라고 합니다.\n",
    "기호 오른쪽에 있는 결과를 왼쪽에 저장한다."
   ]
  },
  {
   "cell_type": "code",
   "execution_count": 8,
   "id": "6deab93a",
   "metadata": {},
   "outputs": [],
   "source": [
    "x = 10 # x 라는 변수에 10 이라는 값을 저장\n",
    "y = 10 # y 라는 변수에 20 이라는 값을 저장\n",
    "\n",
    "x, y = 10, 20 # x 에는 10이라는 값을 저장, y에는 20이라는 값을 저장한다.\n",
    "\n",
    "# 두개의 변수가 있는데, 그 변수의 값을 서로 바꾸고싶다.\n",
    "# 방법 1.\n",
    "temp = x # 새로운 변수를 이용해서 원래 있던 값을 저장\n",
    "x = y # y의 값을 x에 저장한다. (x안에 원래 있던 값이 사라진다. => temp라는 변수에 x의 값을 미리 저장)\n",
    "y = temp # 미리 저장해둔 x의 값이 들어있는 temp 변수의 값을 y에 다시 할당\n",
    "\n",
    "# 파이썬에서 가능한 방법 2 (파이써닉하다.!!)\n",
    "x, y = y, x # x 변수에는 y의 값을 넣어주고, y 변수에는 x의 값을 넣어준다."
   ]
  },
  {
   "cell_type": "markdown",
   "id": "f9c69b09",
   "metadata": {},
   "source": [
    "식별자\n",
    "\n",
    "변수 이름의 규칙\n",
    "식별자(변수이름)의 규칙 => 알파벳, 언더스코어(_), 숫자로 구성된다.\n",
    "첫 글자로 숫자를 사용할 수 없다.\n",
    "길이 제한이 없다, 대소문자를 구별한다. (오타 3형제중 하나 (대소문자, 공백, 스펠링)\n",
    "파이썬에 미리 예약된 단어(사용중인 단어)는 변수의 이름으로 사용할 수 없다.\n",
    "\n",
    "keyword(키워드)를 변수 이름으로 사용할수 없다!!!! ( 예약어 )\n",
    "나는 키워드의 목록을 알고싶은데??\n",
    "\n",
    "파이썬의 키워드 목록을 출력하는 방법 알아두기."
   ]
  },
  {
   "cell_type": "code",
   "execution_count": 9,
   "id": "aaeefbf9",
   "metadata": {},
   "outputs": [
    {
     "name": "stdout",
     "output_type": "stream",
     "text": [
      "['False', 'None', 'True', 'and', 'as', 'assert', 'async', 'await', 'break', 'class', 'continue', 'def', 'del', 'elif', 'else', 'except', 'finally', 'for', 'from', 'global', 'if', 'import', 'in', 'is', 'lambda', 'nonlocal', 'not', 'or', 'pass', 'raise', 'return', 'try', 'while', 'with', 'yield']\n"
     ]
    }
   ],
   "source": [
    "import keyword\n",
    "print(keyword.kwlist)"
   ]
  },
  {
   "cell_type": "code",
   "execution_count": 10,
   "id": "af2bd8bf",
   "metadata": {},
   "outputs": [
    {
     "ename": "SyntaxError",
     "evalue": "cannot assign to False (1348156257.py, line 1)",
     "output_type": "error",
     "traceback": [
      "\u001b[1;36m  Input \u001b[1;32mIn [10]\u001b[1;36m\u001b[0m\n\u001b[1;33m    False = \"이것은 False입니다.\"\u001b[0m\n\u001b[1;37m    ^\u001b[0m\n\u001b[1;31mSyntaxError\u001b[0m\u001b[1;31m:\u001b[0m cannot assign to False\n"
     ]
    }
   ],
   "source": [
    "False = \"이것은 False입니다.\"\n",
    "print(False)"
   ]
  },
  {
   "cell_type": "markdown",
   "id": "05c37012",
   "metadata": {},
   "source": [
    "변수이름에 내장함수나 모듈등의 이름도 사용하지 않아야 한다.\n",
    "물론 변수이름으로 사용할수는 있지만 원래의 기능을 잃고 내가 작성한 대로 동작하게 된다."
   ]
  },
  {
   "cell_type": "code",
   "execution_count": 13,
   "id": "8740686c",
   "metadata": {},
   "outputs": [
    {
     "name": "stdout",
     "output_type": "stream",
     "text": [
      "5\n"
     ]
    }
   ],
   "source": [
    "x = 5\n",
    "print = x\n",
    "# print라는 이름에 할당을 잘못해서 원래 내장함수의 기능을 잃어버렸다.\n",
    "# 원상복구 하는 방법 (__builtins__ 안에 내장함수가 들어있으니 이걸로 복구해서 사용한다.)\n",
    "print = __builtins__.print\n",
    "print(x)"
   ]
  },
  {
   "cell_type": "markdown",
   "id": "2c184973",
   "metadata": {},
   "source": [
    "연산자\n",
    "\n",
    "산술 연산자\n",
    "숫자타입에 대해 기본적인 사칙연산 + 수식계산\n",
    "\n",
    "+ - * / (덧셈, 뺄셈, 곱셈, 나눗셈)\n",
    "// 몫을 구하는 연산자\n",
    "** 거듭제곱을 구하는 연산자"
   ]
  },
  {
   "cell_type": "code",
   "execution_count": 19,
   "id": "b4ccf11c",
   "metadata": {},
   "outputs": [
    {
     "name": "stdout",
     "output_type": "stream",
     "text": [
      "125\n"
     ]
    }
   ],
   "source": [
    "x = 5\n",
    "y = 3\n",
    "\n",
    "print(x ** y) # 5 * 5 * 5 (x = 5 , y = 3)"
   ]
  },
  {
   "cell_type": "markdown",
   "id": "48f7e20f",
   "metadata": {},
   "source": [
    "연산자 우선순위\n",
    "\n",
    "기본적으로 수학에서의 우선순위와 같다. \n",
    "괄호가 가장 먼저 계산된다. 그다음에 곱학, 나누기, 더하기 빼기 순으로 우선순위를 가진다.\n",
    "\n",
    "= : 할당연산자 , 우선순위가 가장 낮은편에 속한다 ( 제일 나중에 실행되는 연산자 )\n",
    "\n",
    "x = 5\n",
    "y = 3\n",
    "z = x + y \n",
    "x + y 가 먼저 계산되고, 그 결과를 z에 저장"
   ]
  },
  {
   "cell_type": "markdown",
   "id": "f7bea19c",
   "metadata": {},
   "source": [
    "파이썬의 자료형\n",
    "\n",
    "파이썬에서는 다양한 종류의 데이터를 사용할수 있다.\n",
    "사용할수 있는 데이터의 종류들을 자료형(DATA TYPE)이라고 한다.\n",
    "\n",
    "- 수치형(숫자, Numeric Type)\n",
    "    1. int(정수 Integer)\n",
    "    2. float(부동소수점, 실수, floating point number)\n",
    "    3. complex(복소수, complex number)\n",
    "- 문자열 (String Type)\n",
    "    글자, 문자들을 표현하는 데이터\n",
    "- 불린형 (Boolean Type)\n",
    "    참(True) , 거짓(False)를 나타내는 데이터\n",
    "    어떤 수식의 결과가 참인지 또는 거짓인지 판단\n",
    "None : 아무것도 아니다"
   ]
  },
  {
   "cell_type": "markdown",
   "id": "f0c60b16",
   "metadata": {},
   "source": [
    "실수 자료형\n",
    "실수의 값을 처리할때 의도하지 않은 결과가 나올수있다."
   ]
  },
  {
   "cell_type": "code",
   "execution_count": 20,
   "id": "1af17de9",
   "metadata": {},
   "outputs": [
    {
     "name": "stdout",
     "output_type": "stream",
     "text": [
      "0.10000000000000009\n",
      "0.09999999999999987\n"
     ]
    }
   ],
   "source": [
    "print(3.2 - 3.1)\n",
    "print(1.2 - 1.1)\n",
    "# 연산의 결과가 우리가 예상한 결과와 다르다!!"
   ]
  },
  {
   "cell_type": "markdown",
   "id": "c78540be",
   "metadata": {},
   "source": [
    "컴퓨터는 실수를 계산하는데 우리와 다르계 계산\n",
    "컴퓨터는 0또는 1로만 실수를 표현하는데, 거기서 우리와 다른 방법을 쓰게되므로\n",
    "컴퓨터는 정확한 실수의 값이 아니라 근사한 값을 출력하게 된다.\n",
    "무한대의 숫자를 표현할수 없으니 사람이 사용하는 10진법의 근사값만 표시한다.\n",
    "이런 이진법의 수 표현을 사람이 사용하는 십진법의 수 표현으로 바꾸는데 발생하는 예상치 못한 결과\n",
    "\n",
    "해결책\n",
    "\n",
    "a = 3.2 - 3.1\n",
    "b = 1.2 - 1.1\n",
    "\n",
    "첫번째 방법 : 임의의 작은수를 활용한다.\n",
    "abs() : 절댓값을 구해주는 함수 (결과가 항상 양수)\n",
    "abs(a-b) : (a-b)의 절댓값을 구해준다.\n",
    "\n",
    "a-b 가 어떤 엄청나게 작은 수보다 작다 (오차가 매우 작다 ==> 같은 값으로 취급한다.)\n",
    "abs(a-b) <= 1e-10\n",
    "a-b 가 1의 -10 승보다 작으면 오차가 매우 작다 ==> 같은 값으로 취급한다.\n",
    "\n",
    "두번째 방법 (파이썬 3.5버전 이상)\n",
    "import math\n",
    "math.isclose(a,b)\n",
    "isclose() : 제공된 수들이 가까운 수 인지?? ==> 차를 구했을때, 그 오차가 작은지 판단하는 함수\n",
    "오차가 작으면 같은수로 취급한다는 성질을 이용한다.\n"
   ]
  },
  {
   "cell_type": "markdown",
   "id": "dd42ddda",
   "metadata": {},
   "source": [
    "문자열 자료형(String)\n",
    " \n",
    "str 타입 문자열은 작은따옴표(') 또는 큰따옴표(\")를 사용해서 표현한다.\n",
    "PEP8 스타일 가이드에서는 둘중에 하나만 사용해서 일관성을 유지해라.\n",
    "\n",
    "따옴표안에 따옴표를 표현하는 방법\n",
    "작은 따옴표를 사용한 경우\n",
    "str1 = \"문자열 안에 '작은따옴표'를 사용해서 표현한다.\"\n",
    "str2 = '문자열 안에 \"큰따옴표\"를 사용해서 표현한다.'\n",
    "\n",
    "삼중따옴표\n",
    "작은따옴표나 큰따옴표를 삼중으로 사용해서 문자열을 표현한다.\n",
    "따옴표 안에 따옴표를 쉽게 넣을수 있고, 줄바꿈도 그대로 인식하기 때문에 편리한 방법."
   ]
  },
  {
   "cell_type": "code",
   "execution_count": 21,
   "id": "f5c2897b",
   "metadata": {},
   "outputs": [
    {
     "name": "stdout",
     "output_type": "stream",
     "text": [
      "\n",
      "문자열 안에 '작은따옴표' 나 \"큰따옴표\"\n",
      "모두 사용할수 있고요,\n",
      "줄바꿈도 그대로 인식해서 표현합니다.\n",
      "\n"
     ]
    }
   ],
   "source": [
    "print(\"\"\"\n",
    "문자열 안에 '작은따옴표' 나 \"큰따옴표\"\n",
    "모두 사용할수 있고요,\n",
    "줄바꿈도 그대로 인식해서 표현합니다.\n",
    "\"\"\")"
   ]
  },
  {
   "cell_type": "markdown",
   "id": "90744375",
   "metadata": {},
   "source": [
    "문자열안에 특수문자를 표현하고싶다\n",
    "Escape sequence\n",
    "역슬래시 뒤에 특정 문자가와서 특수한 기능을 사용하는 문자 조합\n",
    "(폰트에 따라서 \\ <== 역슬래시) 다르게 표현될 수 있으나 같은 의미\n",
    "\n",
    "줄바꿈 : \\n (newline)\n",
    "탭 : \\t (tap)\n",
    "역슬래쉬 : \\\\"
   ]
  },
  {
   "cell_type": "code",
   "execution_count": 23,
   "id": "3b355595",
   "metadata": {},
   "outputs": [
    {
     "name": "stdout",
     "output_type": "stream",
     "text": [
      "철수 \n",
      "안녕\n"
     ]
    }
   ],
   "source": [
    "print(\"철수 \\n안녕\")"
   ]
  },
  {
   "cell_type": "code",
   "execution_count": 24,
   "id": "6d4dbd05",
   "metadata": {},
   "outputs": [
    {
     "name": "stdout",
     "output_type": "stream",
     "text": [
      "철수 \"안녕\"\n"
     ]
    }
   ],
   "source": [
    "print(\"철수 \\\"안녕\\\"\")"
   ]
  },
  {
   "cell_type": "code",
   "execution_count": 25,
   "id": "d2b1ace7",
   "metadata": {},
   "outputs": [
    {
     "name": "stdout",
     "output_type": "stream",
     "text": [
      "HELLOWORLD\n"
     ]
    }
   ],
   "source": [
    "str1 = \"HELLO\" + \"WORLD\"\n",
    "print(str1) # 문자열을 이어붙이기"
   ]
  },
  {
   "cell_type": "code",
   "execution_count": 26,
   "id": "80737be3",
   "metadata": {},
   "outputs": [
    {
     "name": "stdout",
     "output_type": "stream",
     "text": [
      "hihihi\n"
     ]
    }
   ],
   "source": [
    "str2 = \"hi\"\n",
    "print(str2 * 3) # 문자열을 3번 반복"
   ]
  },
  {
   "cell_type": "code",
   "execution_count": 27,
   "id": "9eb7ff5e",
   "metadata": {},
   "outputs": [
    {
     "name": "stdout",
     "output_type": "stream",
     "text": [
      "안녕~ 내이름은 신민석 이고, 점수는 100\n"
     ]
    }
   ],
   "source": [
    "# 문자열을 변수를 활용해서 사용하는방법\n",
    "\n",
    "# f - string\n",
    "name = \"신민석\"\n",
    "score = 100\n",
    "\n",
    "print(f\"안녕~ 내이름은 {name} 이고, 점수는 {score}\")"
   ]
  },
  {
   "cell_type": "markdown",
   "id": "0797181a",
   "metadata": {},
   "source": [
    "변수를 출력하고 싶은 자리에 { } 와 변수를 사용해서 출력\n",
    "반드시 문자열 표시 앞에 f 를 붙여서 만든다."
   ]
  }
 ],
 "metadata": {
  "kernelspec": {
   "display_name": "Python 3.10.0 64-bit",
   "language": "python",
   "name": "python3"
  },
  "language_info": {
   "codemirror_mode": {
    "name": "ipython",
    "version": 3
   },
   "file_extension": ".py",
   "mimetype": "text/x-python",
   "name": "python",
   "nbconvert_exporter": "python",
   "pygments_lexer": "ipython3",
   "version": "3.10.0"
  },
  "toc": {
   "base_numbering": 1,
   "nav_menu": {},
   "number_sections": true,
   "sideBar": true,
   "skip_h1_title": false,
   "title_cell": "Table of Contents",
   "title_sidebar": "Contents",
   "toc_cell": false,
   "toc_position": {
    "height": "calc(100% - 180px)",
    "left": "10px",
    "top": "150px",
    "width": "384px"
   },
   "toc_section_display": true,
   "toc_window_display": true
  },
  "vscode": {
   "interpreter": {
    "hash": "369f2c481f4da34e4445cda3fffd2e751bd1c4d706f27375911949ba6bb62e1c"
   }
  }
 },
 "nbformat": 4,
 "nbformat_minor": 5
}
